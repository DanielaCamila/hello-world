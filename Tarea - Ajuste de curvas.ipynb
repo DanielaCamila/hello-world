{
 "cells": [
  {
   "cell_type": "markdown",
   "metadata": {},
   "source": [
    "# Tarea - Ajuste de curvas"
   ]
  },
  {
   "cell_type": "markdown",
   "metadata": {},
   "source": [
    "*Nombre: Camila Daniela Zapata Castañeda*"
   ]
  },
  {
   "cell_type": "markdown",
   "metadata": {},
   "source": [
    "*Fecha: 14 de Septiembre del 2023*"
   ]
  },
  {
   "cell_type": "markdown",
   "metadata": {},
   "source": []
  },
  {
   "cell_type": "markdown",
   "metadata": {},
   "source": []
  },
  {
   "cell_type": "code",
   "execution_count": 126,
   "metadata": {},
   "outputs": [],
   "source": [
    "import numpy as np\n",
    "import pandas as pd\n",
    "import matplotlib.pyplot as plt"
   ]
  },
  {
   "cell_type": "markdown",
   "metadata": {},
   "source": [
    "---\n",
    "### Problema 1\n",
    "\n",
    "Los siguientes datos representan el costo en dólares de la electricidad según Western Electricity Coordinating Council desde el 2014 (y su pronóstico para el 2040)\n",
    "\n",
    "Tomado de:\n",
    "https://www.quandl.com/data/EIA/AEO_2016_REF_NO_CPP_PRCE_NA_COMM_NA_ELC_NA_WECCRKS_NCNTPKWH_A-Electricity-End-Use-Prices-Commercial-Western-Electricity-Coordinating-Council-Rockies-No-CPP-AEO2016"
   ]
  },
  {
   "cell_type": "code",
   "execution_count": 127,
   "metadata": {},
   "outputs": [],
   "source": [
    "import numpy as np\n",
    "# Datos extraidos de la página de quandl\n",
    "data = np.array([10.051101,  9.259127,  9.444813,  9.557723,  9.977324, 10.298326,\n",
    "       10.447217, 10.550506, 10.590784, 10.657418, 10.743085, 10.831965,\n",
    "       10.988435, 11.153055, 11.313326, 11.557165, 11.860136, 12.122511,\n",
    "       12.356448, 12.611391, 12.814569, 13.111372, 13.357134, 13.559012,\n",
    "       13.85861 , 14.135924, 14.436149])"
   ]
  },
  {
   "cell_type": "markdown",
   "metadata": {},
   "source": [
    "1. Ajuste estos datos a polinomios de grado 1 hasta 3 (los datos en $x$ corresponden a los años de 2014 a 2040, sin embargo son valores muy grandes para elevarlos a una potencia, use una representación para estos años, por ejemplo $2014 \\rightarrow 0$ y $2040\\rightarrow 26$).\n",
    "\n",
    "2. Muestre las tres curvas ajustadas junto a los datos de los costos en un solo gráfico"
   ]
  },
  {
   "cell_type": "code",
   "execution_count": 128,
   "metadata": {},
   "outputs": [
    {
     "data": {
      "image/png": "[encoded data removed]",
      "text/plain": [
       "<Figure size 640x480 with 1 Axes>"
      ]
     },
     "metadata": {},
     "output_type": "display_data"
    }
   ],
   "source": [
    "import matplotlib.pyplot as plt\n",
    "%matplotlib inline\n",
    "\n",
    "x = np.linspace(0, 26, len(data))\n",
    "y = data\n",
    "\n",
    "plt.figure()\n",
    "plt.scatter(x, y)\n",
    "plt.grid()"
   ]
  },
  {
   "cell_type": "code",
   "execution_count": 129,
   "metadata": {},
   "outputs": [],
   "source": [
    "def funcion_de_costo(beta, X, y):\n",
    "    m, n = X.shape\n",
    "    beta = np.reshape(beta, [n, 1])\n",
    "    y_pred = X @ beta\n",
    "    error = y_pred - y\n",
    "    return (error.T @ error)[0][0]"
   ]
  },
  {
   "cell_type": "code",
   "execution_count": 130,
   "metadata": {},
   "outputs": [
    {
     "data": {
      "text/plain": [
       "617.3389019449041"
      ]
     },
     "execution_count": 130,
     "metadata": {},
     "output_type": "execute_result"
    }
   ],
   "source": [
    "# Plantear modelo \n",
    "#y = b0 + b1*x\n",
    "\n",
    "# Factores\n",
    "# - 1\n",
    "# - x\n",
    "\n",
    "beta = np.random.rand(2)\n",
    "\n",
    "m = len(data)\n",
    "ones = np.ones([m, 1])\n",
    "x_factor = np.reshape(x,[m,1])\n",
    "\n",
    "X = np.hstack((ones, x_factor))\n",
    "\n",
    "y_vector = np.reshape(data,[m,1])\n",
    "\n",
    "funcion_de_costo(beta, X, y)"
   ]
  },
  {
   "cell_type": "code",
   "execution_count": 131,
   "metadata": {},
   "outputs": [
    {
     "data": {
      "text/plain": [
       "  message: Optimization terminated successfully.\n",
       "  success: True\n",
       "   status: 0\n",
       "      fun: 2.3704889518166\n",
       "        x: [ 9.116e+00  1.867e-01]\n",
       "      nit: 3\n",
       "      jac: [ 2.950e-06  2.682e-06]\n",
       " hess_inv: [[ 7.011e-02 -3.968e-03]\n",
       "            [-3.968e-03  3.053e-04]]\n",
       "     nfev: 15\n",
       "     njev: 5"
      ]
     },
     "execution_count": 131,
     "metadata": {},
     "output_type": "execute_result"
    }
   ],
   "source": [
    "import scipy.optimize as opt\n",
    "opt.minimize(funcion_de_costo, beta, args=(X, y_vector))"
   ]
  },
  {
   "cell_type": "code",
   "execution_count": 132,
   "metadata": {},
   "outputs": [
    {
     "data": {
      "text/plain": [
       "  message: Desired error not necessarily achieved due to precision loss.\n",
       "  success: False\n",
       "   status: 2\n",
       "      fun: 0.8443845157070811\n",
       "        x: [ 9.591e+00  7.252e-02  4.390e-03]\n",
       "      nit: 5\n",
       "      jac: [-1.683e-04 -1.556e-03  6.094e-03]\n",
       " hess_inv: [[ 1.442e-01 -2.175e-02  6.841e-04]\n",
       "            [-2.175e-02  4.574e-03 -1.642e-04]\n",
       "            [ 6.841e-04 -1.642e-04  6.315e-06]]\n",
       "     nfev: 168\n",
       "     njev: 39"
      ]
     },
     "execution_count": 132,
     "metadata": {},
     "output_type": "execute_result"
    }
   ],
   "source": [
    "# Plantear modelo \n",
    "#y = b0 + b1*x + b2*x**2\n",
    "\n",
    "# Factores\n",
    "# - 1\n",
    "# - x\n",
    "# - x**2\n",
    "\n",
    "beta = np.random.rand(3)\n",
    "\n",
    "m = len(data)\n",
    "ones = np.ones([m, 1])\n",
    "x_factor = np.reshape(x,[m,1])\n",
    "x2_factor = np.reshape(x**2,[m,1])\n",
    "\n",
    "X = np.hstack((ones, x_factor, x2_factor))\n",
    "\n",
    "y_vector = np.reshape(data,[m,1])\n",
    "\n",
    "opt.minimize(funcion_de_costo, beta, args=(X, y_vector))"
   ]
  },
  {
   "cell_type": "code",
   "execution_count": 133,
   "metadata": {},
   "outputs": [
    {
     "data": {
      "text/plain": [
       "  message: Desired error not necessarily achieved due to precision loss.\n",
       "  success: False\n",
       "   status: 2\n",
       "      fun: 0.8404346168293201\n",
       "        x: [ 9.568e+00  8.465e-02  3.202e-03  3.047e-05]\n",
       "      nit: 8\n",
       "      jac: [ 3.347e-05 -2.905e-05 -3.760e-03 -8.497e-02]\n",
       " hess_inv: [[ 2.272e-01 -6.411e-02  4.834e-03 -1.064e-04]\n",
       "            [-6.411e-02  2.621e-02 -2.285e-03  5.438e-05]\n",
       "            [ 4.834e-03 -2.285e-03  2.142e-04 -5.330e-06]\n",
       "            [-1.064e-04  5.438e-05 -5.330e-06  1.367e-07]]\n",
       "     nfev: 237\n",
       "     njev: 45"
      ]
     },
     "execution_count": 133,
     "metadata": {},
     "output_type": "execute_result"
    }
   ],
   "source": [
    "# Plantear modelo \n",
    "#y = b0 + b1*x + b2*x**2 + b3*x**3\n",
    "\n",
    "# Factores\n",
    "# - 1\n",
    "# - x\n",
    "# - x**2\n",
    "# - x**3\n",
    "\n",
    "beta = np.random.rand(4)\n",
    "\n",
    "m = len(data)\n",
    "ones = np.ones([m, 1])\n",
    "x_factor = np.reshape(x,[m,1])\n",
    "x2_factor = np.reshape(x**2,[m,1])\n",
    "x3_factor = np.reshape(x**3,[m,1])\n",
    "\n",
    "X = np.hstack((ones, x_factor, x2_factor, x3_factor))\n",
    "\n",
    "y_vector = np.reshape(data,[m,1])\n",
    "\n",
    "opt.minimize(funcion_de_costo, beta, args=(X, y_vector))"
   ]
  },
  {
   "cell_type": "code",
   "execution_count": 134,
   "metadata": {},
   "outputs": [],
   "source": [
    "def f1(x) :\n",
    "    return 9.116 + 0.1867*x\n",
    "def f2(x):\n",
    "    return 9.591 + 7.252e-02*x + 4.390e-03*x**2\n",
    "def f3(x):\n",
    "    return 9.568 + 8.465e-02*x + 3.202e-03*x**2 + 3.047e-05*x**3"
   ]
  },
  {
   "cell_type": "code",
   "execution_count": 135,
   "metadata": {},
   "outputs": [
    {
     "data": {
      "image/png": "[encoded data removed]",
      "text/plain": [
       "<Figure size 640x480 with 1 Axes>"
      ]
     },
     "metadata": {},
     "output_type": "display_data"
    }
   ],
   "source": [
    "import matplotlib.pyplot as plt\n",
    "%matplotlib inline\n",
    "\n",
    "y = data\n",
    "\n",
    "plt.figure()\n",
    "plt.scatter(x, y)\n",
    "plt.plot(x, f1(x),\"r\", label= \"Recta\")\n",
    "plt.plot(x, f2(x),\"g\", label= \"Parabola\")\n",
    "plt.plot(x, f3(x),\"b\", label= \"Cúbica\")\n",
    "plt.legend(loc= \"best\")\n",
    "plt.grid()\n"
   ]
  },
  {
   "cell_type": "markdown",
   "metadata": {},
   "source": [
    "---"
   ]
  },
  {
   "cell_type": "markdown",
   "metadata": {},
   "source": [
    "___\n",
    "### Problema 2\n",
    "\n",
    "El archivo `population_data.csv` contiene información histórica anual de México relativa a la población, nacimientos y muertes desde el año 1950 hasta el año 2015. La primer columna corresponde a los años, la segunda a la población, la tercera a los nacimientos y la última a los decesos.\n",
    "\n",
    "Tomado de: https://en.wikipedia.org/wiki/Demographics_of_Mexico.\n",
    "\n",
    "Importe estos datos usando la función `read_csv` del paquete `pandas`\n",
    "\n",
    "1. Usando los años como variable independiente $x$ y la población como variable dependiente $y$, ajustar polinomios de grado 1 hasta grado 3.\n",
    "\n",
    "    * Mostrar en un solo gráfico los datos de población contra los años, y los polinomios ajustados.\n",
    "\n",
    "    * Graficar el error cuadrático acumulado contra el número de términos.\n",
    "\n",
    "2. Repetir el punto 1 usando los nacimientos como variable dependiente $y$. Grafique las curvas ajustadas junto con los datos de nacimientos. Vea en un gráfico el error acumulado."
   ]
  },
  {
   "cell_type": "markdown",
   "metadata": {},
   "source": [
    "---"
   ]
  },
  {
   "cell_type": "code",
   "execution_count": 138,
   "metadata": {},
   "outputs": [
    {
     "data": {
      "text/html": [
       "<div>\n",
       "<style scoped>\n",
       "    .dataframe tbody tr th:only-of-type {\n",
       "        vertical-align: middle;\n",
       "    }\n",
       "\n",
       "    .dataframe tbody tr th {\n",
       "        vertical-align: top;\n",
       "    }\n",
       "\n",
       "    .dataframe thead th {\n",
       "        text-align: right;\n",
       "    }\n",
       "</style>\n",
       "<table border=\"1\" class=\"dataframe\">\n",
       "  <thead>\n",
       "    <tr style=\"text-align: right;\">\n",
       "      <th></th>\n",
       "      <th>Year</th>\n",
       "      <th>Poblacion</th>\n",
       "      <th>Nacimientos</th>\n",
       "      <th>Decesos</th>\n",
       "    </tr>\n",
       "  </thead>\n",
       "  <tbody>\n",
       "    <tr>\n",
       "      <th>0</th>\n",
       "      <td>1950</td>\n",
       "      <td>28296</td>\n",
       "      <td>1174947</td>\n",
       "      <td>418430</td>\n",
       "    </tr>\n",
       "    <tr>\n",
       "      <th>1</th>\n",
       "      <td>1951</td>\n",
       "      <td>29110</td>\n",
       "      <td>1183788</td>\n",
       "      <td>458238</td>\n",
       "    </tr>\n",
       "    <tr>\n",
       "      <th>2</th>\n",
       "      <td>1952</td>\n",
       "      <td>29980</td>\n",
       "      <td>1195209</td>\n",
       "      <td>408823</td>\n",
       "    </tr>\n",
       "    <tr>\n",
       "      <th>3</th>\n",
       "      <td>1953</td>\n",
       "      <td>30904</td>\n",
       "      <td>1261775</td>\n",
       "      <td>446127</td>\n",
       "    </tr>\n",
       "    <tr>\n",
       "      <th>4</th>\n",
       "      <td>1954</td>\n",
       "      <td>31880</td>\n",
       "      <td>1339837</td>\n",
       "      <td>378752</td>\n",
       "    </tr>\n",
       "    <tr>\n",
       "      <th>...</th>\n",
       "      <td>...</td>\n",
       "      <td>...</td>\n",
       "      <td>...</td>\n",
       "      <td>...</td>\n",
       "    </tr>\n",
       "    <tr>\n",
       "      <th>61</th>\n",
       "      <td>2011</td>\n",
       "      <td>115683</td>\n",
       "      <td>2586287</td>\n",
       "      <td>590693</td>\n",
       "    </tr>\n",
       "    <tr>\n",
       "      <th>62</th>\n",
       "      <td>2012</td>\n",
       "      <td>117054</td>\n",
       "      <td>2498880</td>\n",
       "      <td>602354</td>\n",
       "    </tr>\n",
       "    <tr>\n",
       "      <th>63</th>\n",
       "      <td>2013</td>\n",
       "      <td>118395</td>\n",
       "      <td>2478889</td>\n",
       "      <td>623599</td>\n",
       "    </tr>\n",
       "    <tr>\n",
       "      <th>64</th>\n",
       "      <td>2014</td>\n",
       "      <td>119713</td>\n",
       "      <td>2463420</td>\n",
       "      <td>633641</td>\n",
       "    </tr>\n",
       "    <tr>\n",
       "      <th>65</th>\n",
       "      <td>2015</td>\n",
       "      <td>121005</td>\n",
       "      <td>2353596</td>\n",
       "      <td>655694</td>\n",
       "    </tr>\n",
       "  </tbody>\n",
       "</table>\n",
       "<p>66 rows × 4 columns</p>\n",
       "</div>"
      ],
      "text/plain": [
       "    Year  Poblacion  Nacimientos  Decesos\n",
       "0   1950      28296      1174947   418430\n",
       "1   1951      29110      1183788   458238\n",
       "2   1952      29980      1195209   408823\n",
       "3   1953      30904      1261775   446127\n",
       "4   1954      31880      1339837   378752\n",
       "..   ...        ...          ...      ...\n",
       "61  2011     115683      2586287   590693\n",
       "62  2012     117054      2498880   602354\n",
       "63  2013     118395      2478889   623599\n",
       "64  2014     119713      2463420   633641\n",
       "65  2015     121005      2353596   655694\n",
       "\n",
       "[66 rows x 4 columns]"
      ]
     },
     "execution_count": 138,
     "metadata": {},
     "output_type": "execute_result"
    }
   ],
   "source": [
    "import pandas as pd\n",
    "\n",
    "data = pd.read_csv(\"population_data.csv\")\n",
    "data"
   ]
  },
  {
   "cell_type": "code",
   "execution_count": 139,
   "metadata": {},
   "outputs": [
    {
     "data": {
      "image/png": "[encoded data removed]",
      "text/plain": [
       "<Figure size 640x480 with 1 Axes>"
      ]
     },
     "metadata": {},
     "output_type": "display_data"
    }
   ],
   "source": [
    "import matplotlib.pyplot as plt\n",
    "%matplotlib inline\n",
    "\n",
    "x = np.linspace(1950, 2015, len(data))\n",
    "y = data[\"Poblacion\"]\n",
    "\n",
    "plt.figure()\n",
    "plt.scatter(x, y)\n",
    "plt.grid()"
   ]
  },
  {
   "cell_type": "code",
   "execution_count": 140,
   "metadata": {},
   "outputs": [],
   "source": [
    "def funcion_de_costo(beta, X, y):\n",
    "    m, n = X.shape\n",
    "    beta = np.reshape(beta, [n, 1])\n",
    "    y_pred = X @ beta\n",
    "    error = y_pred - y\n",
    "    return (error.T @ error)[0][0]"
   ]
  },
  {
   "cell_type": "code",
   "execution_count": 141,
   "metadata": {},
   "outputs": [
    {
     "data": {
      "text/plain": [
       "  message: Desired error not necessarily achieved due to precision loss.\n",
       "  success: False\n",
       "   status: 2\n",
       "      fun: 212137169.92617565\n",
       "        x: [-2.987e+06  1.544e+03]\n",
       "      nit: 10\n",
       "      jac: [-8.000e+00 -1.527e+04]\n",
       " hess_inv: [[ 8.456e-10 -4.267e-13]\n",
       "            [-4.267e-13  1.911e-09]]\n",
       "     nfev: 207\n",
       "     njev: 67"
      ]
     },
     "execution_count": 141,
     "metadata": {},
     "output_type": "execute_result"
    }
   ],
   "source": [
    "# Plantear modelo \n",
    "#y = b0 + b1*x\n",
    "\n",
    "# Factores\n",
    "# - 1\n",
    "# - x\n",
    "\n",
    "beta = np.random.rand(2)\n",
    "\n",
    "m = len(data)\n",
    "ones = np.ones([m, 1])\n",
    "x_factor = np.reshape(x,[m,1])\n",
    "\n",
    "X = np.hstack((ones, x_factor))\n",
    "\n",
    "y = data[\"Poblacion\"].to_numpy()\n",
    "y_vector = np.reshape(y,[m,1])\n",
    "\n",
    "\n",
    "import scipy.optimize as opt\n",
    "opt.minimize(funcion_de_costo, beta, args=(X, y_vector))"
   ]
  },
  {
   "cell_type": "code",
   "execution_count": 142,
   "metadata": {},
   "outputs": [
    {
     "data": {
      "text/plain": [
       "  message: Desired error not necessarily achieved due to precision loss.\n",
       "  success: False\n",
       "   status: 2\n",
       "      fun: 211770198.21050814\n",
       "        x: [-2.637e+01 -1.469e+03  7.599e-01]\n",
       "      nit: 4\n",
       "      jac: [ 6.000e+00  5.460e+02  1.237e+06]\n",
       " hess_inv: [[ 7.660e-06  1.184e-08 -7.917e-12]\n",
       "            [ 1.184e-08  2.093e-05 -1.056e-08]\n",
       "            [-7.917e-12 -1.056e-08  5.323e-12]]\n",
       "     nfev: 211\n",
       "     njev: 50"
      ]
     },
     "execution_count": 142,
     "metadata": {},
     "output_type": "execute_result"
    }
   ],
   "source": [
    "# Plantear modelo \n",
    "#y = b0 + b1*x + b2*x**2\n",
    "\n",
    "# Factores\n",
    "# - 1\n",
    "# - x\n",
    "# - x**2\n",
    "\n",
    "beta = np.random.rand(3)\n",
    "\n",
    "m = len(data)\n",
    "ones = np.ones([m, 1])\n",
    "x_factor = np.reshape(x,[m,1])\n",
    "x2_factor = np.reshape(x**2,[m,1])\n",
    "\n",
    "X = np.hstack((ones, x_factor, x2_factor))\n",
    "\n",
    "\n",
    "y = data[\"Poblacion\"].to_numpy()\n",
    "y_vector = np.reshape(y,[m,1])\n",
    "\n",
    "\n",
    "opt.minimize(funcion_de_costo, beta, args=(X, y_vector))"
   ]
  },
  {
   "cell_type": "code",
   "execution_count": 143,
   "metadata": {},
   "outputs": [
    {
     "data": {
      "text/plain": [
       "  message: Desired error not necessarily achieved due to precision loss.\n",
       "  success: False\n",
       "   status: 2\n",
       "      fun: 509078977.7714144\n",
       "        x: [ 8.576e-01  9.550e-01 -6.677e-01  3.460e-04]\n",
       "      nit: 2\n",
       "      jac: [ 7.840e+03  1.026e+07  9.900e+09  5.870e+13]\n",
       " hess_inv: [[ 1.000e+00 -7.689e-10 -7.695e-07  3.880e-10]\n",
       "            [-7.689e-10  1.000e+00 -1.009e-03  2.550e-07]\n",
       "            [-7.695e-07 -1.009e-03  1.018e-06 -2.573e-10]\n",
       "            [ 3.880e-10  2.550e-07 -2.573e-10  6.505e-14]]\n",
       "     nfev: 191\n",
       "     njev: 36"
      ]
     },
     "execution_count": 143,
     "metadata": {},
     "output_type": "execute_result"
    }
   ],
   "source": [
    "# Plantear modelo \n",
    "#y = b0 + b1*x + b2*x**2 + b3*x**3\n",
    "\n",
    "# Factores\n",
    "# - 1\n",
    "# - x\n",
    "# - x**2\n",
    "# - x**3\n",
    "\n",
    "beta = np.random.rand(4)\n",
    "\n",
    "m = len(data)\n",
    "ones = np.ones([m, 1])\n",
    "x_factor = np.reshape(x,[m,1])\n",
    "x2_factor = np.reshape(x**2,[m,1])\n",
    "x3_factor = np.reshape(x**3,[m,1])\n",
    "\n",
    "X = np.hstack((ones, x_factor, x2_factor, x3_factor))\n",
    "\n",
    "y = data[\"Poblacion\"].to_numpy()\n",
    "y_vector = np.reshape(y,[m,1])\n",
    "\n",
    "opt.minimize(funcion_de_costo, beta, args=(X, y_vector))"
   ]
  },
  {
   "cell_type": "code",
   "execution_count": 144,
   "metadata": {},
   "outputs": [],
   "source": [
    "#5.229e+03 - 1.893e+03*x + 1.343e+00*x**2 - 1.872e-04*x**3 \n",
    "#6.229e-01 + 1.580e-02*x - 5.911e-01*x**2 + 3.077e-04*x**3 \n",
    "#4.031e-02 + 9.018e-01*x - 5.861e-01*x**2 + 3.049e-04*x**3  "
   ]
  },
  {
   "cell_type": "code",
   "execution_count": 154,
   "metadata": {},
   "outputs": [],
   "source": [
    "def f1(x) :\n",
    "    return -2.987e+06 + 1.544e+03*x \n",
    "def f2(x):\n",
    "    return -4.116e+05 - 1.053e+03*x + 6.550e-01*x**2        \n",
    "def f3(x):\n",
    "    return  8.576e-01 + 9.550e-01*x - 6.677e-01*x**2 + 3.460e-04*x**3"
   ]
  },
  {
   "cell_type": "code",
   "execution_count": 155,
   "metadata": {},
   "outputs": [
    {
     "data": {
      "image/png": "[encoded data removed]",
      "text/plain": [
       "<Figure size 640x480 with 1 Axes>"
      ]
     },
     "metadata": {},
     "output_type": "display_data"
    }
   ],
   "source": [
    "import matplotlib.pyplot as plt\n",
    "%matplotlib inline\n",
    "\n",
    "y = data[\"Poblacion\"].to_numpy()\n",
    "\n",
    "plt.figure()\n",
    "plt.scatter(x, y)\n",
    "plt.plot(x, f1(x),\"r\", label= \"Recta\")\n",
    "plt.plot(x, f2(x),\"g\", label= \"Parabola\")\n",
    "plt.plot(x, f3(x),\"b\", label= \"Cúbica\")\n",
    "plt.legend(loc= \"best\")\n",
    "plt.grid()"
   ]
  },
  {
   "cell_type": "code",
   "execution_count": 314,
   "metadata": {},
   "outputs": [
    {
     "data": {
      "image/png": "[encoded data removed]",
      "text/plain": [
       "<Figure size 640x480 with 1 Axes>"
      ]
     },
     "metadata": {},
     "output_type": "display_data"
    }
   ],
   "source": [
    "import matplotlib.pyplot as plt\n",
    "%matplotlib inline\n",
    "\n",
    "xa = np.linspace(1950, 2015, len(data))\n",
    "y = data[\"Nacimientos\"]\n",
    "\n",
    "plt.figure()\n",
    "plt.scatter(x, y)\n",
    "plt.grid()"
   ]
  },
  {
   "cell_type": "code",
   "execution_count": 148,
   "metadata": {},
   "outputs": [],
   "source": [
    "def funcion_de_costo(beta, X, y):\n",
    "    m, n = X.shape\n",
    "    beta = np.reshape(beta, [n, 1])\n",
    "    y_pred = X @ beta\n",
    "    error = y_pred - y\n",
    "    return (error.T @ error)[0][0]"
   ]
  },
  {
   "cell_type": "code",
   "execution_count": 149,
   "metadata": {},
   "outputs": [
    {
     "data": {
      "text/plain": [
       "  message: Desired error not necessarily achieved due to precision loss.\n",
       "  success: False\n",
       "   status: 2\n",
       "      fun: 4750001144736.664\n",
       "        x: [-4.270e+07  2.268e+04]\n",
       "      nit: 7\n",
       "      jac: [-1.311e+05 -2.514e+08]\n",
       " hess_inv: [[ 1.042e+02 -5.254e-02]\n",
       "            [-5.254e-02  2.650e-05]]\n",
       "     nfev: 146\n",
       "     njev: 45"
      ]
     },
     "execution_count": 149,
     "metadata": {},
     "output_type": "execute_result"
    }
   ],
   "source": [
    "# Plantear modelo \n",
    "#y = b0 + b1*x\n",
    "\n",
    "# Factores\n",
    "# - 1\n",
    "# - x\n",
    "\n",
    "beta = np.random.rand(2)\n",
    "\n",
    "m = len(data)\n",
    "ones = np.ones([m, 1])\n",
    "x_factor = np.reshape(x,[m,1])\n",
    "\n",
    "X = np.hstack((ones, x_factor))\n",
    "\n",
    "y = data[\"Nacimientos\"].to_numpy()\n",
    "y_vector = np.reshape(y,[m,1])\n",
    "\n",
    "import scipy.optimize as opt\n",
    "opt.minimize(funcion_de_costo, beta, args=(X, y_vector))"
   ]
  },
  {
   "cell_type": "code",
   "execution_count": 302,
   "metadata": {},
   "outputs": [
    {
     "data": {
      "text/plain": [
       "  message: Desired error not necessarily achieved due to precision loss.\n",
       "  success: False\n",
       "   status: 2\n",
       "      fun: 4852206075026.615\n",
       "        x: [-1.135e+05 -1.949e+04  1.044e+01]\n",
       "      nit: 3\n",
       "      jac: [ 0.000e+00  6.252e+07  1.274e+11]\n",
       " hess_inv: [[ 8.199e-01 -8.564e-04  2.232e-07]\n",
       "            [-8.564e-04  2.185e-05 -1.080e-08]\n",
       "            [ 2.232e-07 -1.080e-08  5.388e-12]]\n",
       "     nfev: 208\n",
       "     njev: 49"
      ]
     },
     "execution_count": 302,
     "metadata": {},
     "output_type": "execute_result"
    }
   ],
   "source": [
    "# Plantear modelo \n",
    "#y = b0 + b1*x + b2*x**2\n",
    "\n",
    "# Factores\n",
    "# - 1\n",
    "# - x\n",
    "# - x**2\n",
    "\n",
    "beta = np.random.rand(3)\n",
    "\n",
    "m = len(data)\n",
    "ones = np.ones([m, 1])\n",
    "x_factor = np.reshape(x,[m,1])\n",
    "x2_factor = np.reshape(x**2,[m,1])\n",
    "\n",
    "X = np.hstack((ones, x_factor, x2_factor))\n",
    "\n",
    "y = data[\"Nacimientos\"].to_numpy()\n",
    "y_vector = np.reshape(y,[m,1])\n",
    "\n",
    "opt.minimize(funcion_de_costo, beta, args=(X, y_vector))"
   ]
  },
  {
   "cell_type": "code",
   "execution_count": 307,
   "metadata": {},
   "outputs": [
    {
     "data": {
      "text/plain": [
       "  message: Desired error not necessarily achieved due to precision loss.\n",
       "  success: False\n",
       "   status: 2\n",
       "      fun: 4959836626580.973\n",
       "        x: [-8.112e+04 -6.070e+02 -8.400e+00  4.693e-03]\n",
       "      nit: 17\n",
       "      jac: [-6.554e+04 -1.425e+08 -3.235e+11 -6.407e+14]\n",
       " hess_inv: [[ 2.745e-05 -2.728e-10  1.027e-10 -4.749e-14]\n",
       "            [-2.728e-10  2.432e-10  2.364e-11 -1.199e-14]\n",
       "            [ 1.027e-10  2.364e-11  5.256e-12 -2.656e-15]\n",
       "            [-4.749e-14 -1.199e-14 -2.656e-15  1.342e-18]]\n",
       "     nfev: 387\n",
       "     njev: 75"
      ]
     },
     "execution_count": 307,
     "metadata": {},
     "output_type": "execute_result"
    }
   ],
   "source": [
    "# Plantear modelo \n",
    "#y = b0 + b1*x + b2*x**2 + b3*x**3\n",
    "\n",
    "# Factores\n",
    "# - 1\n",
    "# - x\n",
    "# - x**2\n",
    "# - x**3\n",
    "\n",
    "np.random.seed(4)\n",
    "beta = np.random.rand(4)\n",
    "\n",
    "m = len(data)\n",
    "ones = np.ones([m, 1])\n",
    "x_factor = np.reshape(x,[m,1])\n",
    "x2_factor = np.reshape(x**2,[m,1])\n",
    "x3_factor = np.reshape(x**3,[m,1])\n",
    "\n",
    "X = np.hstack((ones, x_factor, x2_factor, x3_factor))\n",
    "\n",
    "y = data[\"Nacimientos\"].to_numpy()\n",
    "y_vector = np.reshape(y,[m,1])\n",
    "\n",
    "import scipy.optimize as opt\n",
    "opt.minimize(funcion_de_costo, beta, args=(X, y_vector))"
   ]
  },
  {
   "cell_type": "code",
   "execution_count": 236,
   "metadata": {},
   "outputs": [],
   "source": [
    "#2.227e+03 -2.359e+05*x + 2.289e+02*x**2 -5.512e-02*x**3\n",
    "#2.940e+06 - 6.628e+05*x + 6.573e+02*x**2 - 1.630e-01*x**3"
   ]
  },
  {
   "cell_type": "code",
   "execution_count": 317,
   "metadata": {},
   "outputs": [],
   "source": [
    "def g1(x) :\n",
    "    return -3.973e+07 + 2.119e+04*x   \n",
    "def g2(x):\n",
    "    return -1.135e+05 - 1.949e+04*x + 1.044e+01*x**2  \n",
    "def g3(x):\n",
    "    return x[0] + x[1]*x + x[2]*x**2 + x[3]*x**3\n",
    "    #return -8.112e+04 - 6.070e+02*x -8.400*x**2 + 4.693e-03*x**3"
   ]
  },
  {
   "cell_type": "code",
   "execution_count": 318,
   "metadata": {},
   "outputs": [
    {
     "data": {
      "image/png": "[encoded data removed]",
      "text/plain": [
       "<Figure size 640x480 with 1 Axes>"
      ]
     },
     "metadata": {},
     "output_type": "display_data"
    }
   ],
   "source": [
    "import matplotlib.pyplot as plt\n",
    "%matplotlib inline\n",
    "\n",
    "y = data[\"Nacimientos\"].to_numpy()\n",
    "\n",
    "plt.figure()\n",
    "plt.scatter(xa, y)\n",
    "plt.plot(xa, g1(xa),\"r\", label= \"Recta\")\n",
    "plt.plot(xa, g2(xa),\"g\", label= \"Parabola\")\n",
    "plt.plot(xa, g3(xa),\"b\", label= \"Cúbica\")\n",
    "plt.legend(loc= \"best\")\n",
    "plt.grid()"
   ]
  },
  {
   "cell_type": "code",
   "execution_count": null,
   "metadata": {},
   "outputs": [],
   "source": []
  },
  {
   "cell_type": "code",
   "execution_count": null,
   "metadata": {},
   "outputs": [],
   "source": []
  }
 ],
 "metadata": {
  "kernelspec": {
   "display_name": "Python 3 (ipykernel)",
   "language": "python",
   "name": "python3"
  },
  "language_info": {
   "codemirror_mode": {
    "name": "ipython",
    "version": 3
   },
   "file_extension": ".py",
   "mimetype": "text/x-python",
   "name": "python",
   "nbconvert_exporter": "python",
   "pygments_lexer": "ipython3",
   "version": "3.11.4"
  }
 },
 "nbformat": 4,
 "nbformat_minor": 2
}
