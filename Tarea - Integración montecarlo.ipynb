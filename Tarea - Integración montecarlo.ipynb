{
 "cells": [
  {
   "cell_type": "markdown",
   "metadata": {},
   "source": [
    "# TAREA"
   ]
  },
  {
   "cell_type": "markdown",
   "metadata": {},
   "source": [
    "## Integración Montecarlo"
   ]
  },
  {
   "cell_type": "markdown",
   "metadata": {},
   "source": [
    "1. Realizar las siguientes integrales. Poner los resultados en una tabla cuyas filas correspondan a la cantidad de términos utilizados en la aproximación (usar 10, 100, 1000, 10000 y 100000 términos) y cuyas columnas correspondan a las funciones.\n",
    "    + $\\int_{1}^{3} e^{x}\\log(x)\\text{d}x$.\n",
    "    + $\\int_1^3 \\sin(x)\\ln(x) \\text{d}x$"
   ]
  },
  {
   "cell_type": "code",
   "execution_count": 19,
   "metadata": {},
   "outputs": [
    {
     "data": {
      "text/plain": [
       "5.861592700001956"
      ]
     },
     "execution_count": 19,
     "metadata": {},
     "output_type": "execute_result"
    }
   ],
   "source": [
    "import numpy as np\n",
    "import pandas as pd\n",
    "\n",
    "def g(x):\n",
    "    return np.exp(x)*np.log10(x)\n",
    "\n",
    "a = 1\n",
    "b = 3\n",
    "N = np.logspace(1, 5, 5)\n",
    "\n",
    "table1 = pd.DataFrame(columns = [\"Aproximación\", \"Error\"], index=N)\n",
    "\n",
    "def montecarlo1(g, N, a, b):\n",
    "    u = np.random.uniform(a, b, N)\n",
    "    media = np.mean(g(u))\n",
    "    return media*(b-a)\n",
    "\n",
    "montecarlo1(g, 1000, a, b)"
   ]
  },
  {
   "cell_type": "code",
   "execution_count": 20,
   "metadata": {},
   "outputs": [
    {
     "data": {
      "text/plain": [
       "0.8789495988209853"
      ]
     },
     "execution_count": 20,
     "metadata": {},
     "output_type": "execute_result"
    }
   ],
   "source": [
    "import numpy as np\n",
    "import pandas as pd\n",
    "\n",
    "def f(x):\n",
    "    return np.sin(x)*np.log(x)\n",
    "\n",
    "a = 1\n",
    "b = 3\n",
    "N = np.logspace(1, 5, 5)\n",
    "\n",
    "table1 = pd.DataFrame(columns = [\"Aproximación\", \"Error\"], index=N)\n",
    "\n",
    "def montecarlo1(f, N, a, b):\n",
    "    u = np.random.uniform(a, b, N)\n",
    "    media = np.mean(f(u))\n",
    "    return media*(b-a)\n",
    "\n",
    "montecarlo1(f, 1000, a, b)"
   ]
  },
  {
   "cell_type": "code",
   "execution_count": 28,
   "metadata": {},
   "outputs": [
    {
     "data": {
      "text/html": [
       "<div>\n",
       "<style scoped>\n",
       "    .dataframe tbody tr th:only-of-type {\n",
       "        vertical-align: middle;\n",
       "    }\n",
       "\n",
       "    .dataframe tbody tr th {\n",
       "        vertical-align: top;\n",
       "    }\n",
       "\n",
       "    .dataframe thead th {\n",
       "        text-align: right;\n",
       "    }\n",
       "</style>\n",
       "<table border=\"1\" class=\"dataframe\">\n",
       "  <thead>\n",
       "    <tr style=\"text-align: right;\">\n",
       "      <th></th>\n",
       "      <th>Aproximación1</th>\n",
       "      <th>Error1</th>\n",
       "      <th>Aproximación2</th>\n",
       "      <th>Error2</th>\n",
       "    </tr>\n",
       "  </thead>\n",
       "  <tbody>\n",
       "    <tr>\n",
       "      <th>10.0</th>\n",
       "      <td>5.880321</td>\n",
       "      <td>0.211749</td>\n",
       "      <td>0.964054</td>\n",
       "      <td>0.094254</td>\n",
       "    </tr>\n",
       "    <tr>\n",
       "      <th>100.0</th>\n",
       "      <td>5.653324</td>\n",
       "      <td>0.438746</td>\n",
       "      <td>0.787534</td>\n",
       "      <td>0.082266</td>\n",
       "    </tr>\n",
       "    <tr>\n",
       "      <th>1000.0</th>\n",
       "      <td>6.028691</td>\n",
       "      <td>0.063379</td>\n",
       "      <td>0.872334</td>\n",
       "      <td>0.002534</td>\n",
       "    </tr>\n",
       "    <tr>\n",
       "      <th>10000.0</th>\n",
       "      <td>6.111511</td>\n",
       "      <td>0.019441</td>\n",
       "      <td>0.86709</td>\n",
       "      <td>0.00271</td>\n",
       "    </tr>\n",
       "    <tr>\n",
       "      <th>100000.0</th>\n",
       "      <td>6.112427</td>\n",
       "      <td>0.020357</td>\n",
       "      <td>0.867735</td>\n",
       "      <td>0.002065</td>\n",
       "    </tr>\n",
       "  </tbody>\n",
       "</table>\n",
       "</div>"
      ],
      "text/plain": [
       "         Aproximación1    Error1 Aproximación2    Error2\n",
       "10.0          5.880321  0.211749      0.964054  0.094254\n",
       "100.0         5.653324  0.438746      0.787534  0.082266\n",
       "1000.0        6.028691  0.063379      0.872334  0.002534\n",
       "10000.0       6.111511  0.019441       0.86709   0.00271\n",
       "100000.0      6.112427  0.020357      0.867735  0.002065"
      ]
     },
     "execution_count": 28,
     "metadata": {},
     "output_type": "execute_result"
    }
   ],
   "source": [
    "N = np.logspace(1, 5, 5)\n",
    "table6 = pd.DataFrame(columns=[\"Aproximación1\", \"Error1\", \"Aproximación2\", \"Error2\"])\n",
    "for i in N:\n",
    "    aproximacion3 = montecarlo1(g, int(i), a, b)\n",
    "    table6.loc[i, \"Aproximación1\"] = aproximacion3\n",
    "    table6.loc[i, \"Error1\"] = abs(6.09207 -  aproximacion3)\n",
    "    aproximacion4 = montecarlo1(f, int(i), a, b)\n",
    "    table6.loc[i, \"Aproximación2\"] = aproximacion4\n",
    "    table6.loc[i, \"Error2\"] = abs(0.8698 -  aproximacion4) \n",
    "table6"
   ]
  },
  {
   "cell_type": "markdown",
   "metadata": {},
   "source": [
    "2. Aproximar el área de la región descrita por\n",
    "\n",
    "$$x^2+2y^2\\leq-2x+8y-7$$\n",
    "\n",
    "Poner los resultados en una tabla cuyas filas correspondan a la cantidad de términos utilizados en la aproximación (usar 10, 100, 1000, 10000 y 100000 términos) y en las columnas el valor de aproximación y el error relativo.\n",
    "\n",
    "Definir unos límites adecuados $a_1$, $b_1$, $a_2$ y $b_2$, para la región $R=\\left[a_1,b_1\\right]\\times\\left[a_2,b_2\\right]$"
   ]
  },
  {
   "cell_type": "code",
   "execution_count": 31,
   "metadata": {},
   "outputs": [
    {
     "data": {
      "text/plain": [
       "<matplotlib.collections.PathCollection at 0x2a0d907b490>"
      ]
     },
     "execution_count": 31,
     "metadata": {},
     "output_type": "execute_result"
    },
    {
     "data": {
      "image/png": "[encoded data removed]",
      "text/plain": [
       "<Figure size 640x480 with 1 Axes>"
      ]
     },
     "metadata": {},
     "output_type": "display_data"
    }
   ],
   "source": [
    "import matplotlib.pyplot as plt\n",
    "%matplotlib inline\n",
    "\n",
    "def bernoulli(x,y):\n",
    "    return (x**2) + 2*y**2 <= - 2*x + 8*y - 7\n",
    "\n",
    "x = np.random.uniform(-2.45, 0.45, 300)\n",
    "y = np.random.uniform(3, 1, 300)\n",
    "X, Y = np.meshgrid(x, y)\n",
    "plt.figure()\n",
    "plt.scatter(X, Y, c=bernoulli(X, Y))"
   ]
  },
  {
   "cell_type": "code",
   "execution_count": 44,
   "metadata": {},
   "outputs": [
    {
     "data": {
      "text/html": [
       "<div>\n",
       "<style scoped>\n",
       "    .dataframe tbody tr th:only-of-type {\n",
       "        vertical-align: middle;\n",
       "    }\n",
       "\n",
       "    .dataframe tbody tr th {\n",
       "        vertical-align: top;\n",
       "    }\n",
       "\n",
       "    .dataframe thead th {\n",
       "        text-align: right;\n",
       "    }\n",
       "</style>\n",
       "<table border=\"1\" class=\"dataframe\">\n",
       "  <thead>\n",
       "    <tr style=\"text-align: right;\">\n",
       "      <th></th>\n",
       "      <th>Aproximación</th>\n",
       "      <th>Error</th>\n",
       "    </tr>\n",
       "  </thead>\n",
       "  <tbody>\n",
       "    <tr>\n",
       "      <th>10.0</th>\n",
       "      <td>5.22</td>\n",
       "      <td>[0.6471466566821706, 0.14714665668217064, -0.3...</td>\n",
       "    </tr>\n",
       "    <tr>\n",
       "      <th>100.0</th>\n",
       "      <td>4.176</td>\n",
       "      <td>[0.6471466566821706, 0.14714665668217064, -0.3...</td>\n",
       "    </tr>\n",
       "    <tr>\n",
       "      <th>1000.0</th>\n",
       "      <td>4.495</td>\n",
       "      <td>[0.6471466566821706, 0.14714665668217064, -0.3...</td>\n",
       "    </tr>\n",
       "    <tr>\n",
       "      <th>10000.0</th>\n",
       "      <td>4.43468</td>\n",
       "      <td>[0.6471466566821706, 0.14714665668217064, -0.3...</td>\n",
       "    </tr>\n",
       "    <tr>\n",
       "      <th>100000.0</th>\n",
       "      <td>4.452312</td>\n",
       "      <td>[0.6471466566821706, 0.14714665668217064, -0.3...</td>\n",
       "    </tr>\n",
       "  </tbody>\n",
       "</table>\n",
       "</div>"
      ],
      "text/plain": [
       "         Aproximación                                              Error\n",
       "10.0             5.22  [0.6471466566821706, 0.14714665668217064, -0.3...\n",
       "100.0           4.176  [0.6471466566821706, 0.14714665668217064, -0.3...\n",
       "1000.0          4.495  [0.6471466566821706, 0.14714665668217064, -0.3...\n",
       "10000.0       4.43468  [0.6471466566821706, 0.14714665668217064, -0.3...\n",
       "100000.0     4.452312  [0.6471466566821706, 0.14714665668217064, -0.3..."
      ]
     },
     "execution_count": 44,
     "metadata": {},
     "output_type": "execute_result"
    }
   ],
   "source": [
    "\n",
    "def montecarlo2(region, xa, xb, ya, yb, N):\n",
    "    x = np.random.uniform(xa, xb, N)\n",
    "    y = np.random.uniform(ya, yb, N)\n",
    "    B = region(x,y)\n",
    "    AR = (xb-xa)*(yb-ya)\n",
    "    return np.mean(B)*AR\n",
    "\n",
    "table2 = pd.DataFrame(columns = [\"Aproximación\", \"Error\"], index=N)\n",
    "\n",
    "for i in N:\n",
    "    aproximacion2 = montecarlo2(bernoulli, -2.45, 0.45, 1, 3, int(i))\n",
    "    table2.loc[i, \"Aproximación\"] = aproximacion2\n",
    "    table2.loc[i, \"Error\"] = np.log10((1-(4/60.1315))/(4/60.1315))-(1/2)*np.log10(N)\n",
    "table2"
   ]
  },
  {
   "cell_type": "markdown",
   "metadata": {},
   "source": [
    "3. Describe 3 casos de uso de integración Montecarlo en tu ingeniería."
   ]
  },
  {
   "cell_type": "markdown",
   "metadata": {},
   "source": [
    "**1. Estimación de la probabilidad de incumplimiento (PD) en modelos de riesgo de crédito:**\n",
    "En la ingeniería financiera, la probabilidad de incumplimiento (PD) se refiere a la probabilidad de que un prestatario no pueda cumplir con sus obligaciones de pago de deuda.\n",
    "\n",
    "**1.1 Aplicación:**  Simular diferentes escenarios económicos y calcular la PD de un prestatario o una cartera de préstamos.\n"
   ]
  },
  {
   "cell_type": "markdown",
   "metadata": {},
   "source": [
    "**2. Valoración de swaps de tasas de interés y derivados de tipos de interés:**\n",
    "Los swaps de tasas de interés y otros derivados de tipos de interés son instrumentos financieros que permiten a las partes intercambiar flujos de efectivo basados en tasas de interés. \n",
    "\n",
    "**2.1 Aplicación:** Estimar el valor presente de estos flujos de efectivo en función de las tasas de interés futuras previstas."
   ]
  },
  {
   "cell_type": "markdown",
   "metadata": {},
   "source": [
    "**3. Valoración de bonos corporativos y gubernamentales:**\n",
    "La valoración de bonos corporativos y gubernamentales implica calcular su valor presente, que depende de los flujos de efectivo futuros que el bono generará, como los pagos de cupones y el valor nominal al vencimiento.\n",
    "\n",
    "**3.1 Aplicación:** Estimar los posibles movimientos futuros de las tasas de interés, lo que a su vez afecta el valor presente del bono."
   ]
  }
 ],
 "metadata": {
  "kernelspec": {
   "display_name": "Python 3 (ipykernel)",
   "language": "python",
   "name": "python3"
  },
  "language_info": {
   "codemirror_mode": {
    "name": "ipython",
    "version": 3
   },
   "file_extension": ".py",
   "mimetype": "text/x-python",
   "name": "python",
   "nbconvert_exporter": "python",
   "pygments_lexer": "ipython3",
   "version": "3.11.4"
  }
 },
 "nbformat": 4,
 "nbformat_minor": 2
}
