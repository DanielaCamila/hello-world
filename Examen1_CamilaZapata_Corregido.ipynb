{
 "cells": [
  {
   "cell_type": "markdown",
   "id": "1e2823cf",
   "metadata": {},
   "source": [
    "# Examen A Módulo 1 - Optimización.\n",
    "\n",
    "**Lea cuidadosamente las siguientes indicaciones antes de comenzar el examen:**\n",
    "- Para resolver el examen edite este mismo archivo y renómbrelo de la siguiente manera: *Examen1_ApellidoNombre*, donde *ApellidoNombre* corresponde a su apellido paterno con la inicial en mayúscula, seguido de su primer nombre con la inicial en mayúscula **sin acentos**. Por ejemplo, en mi caso el nombre del archivo sería *Examen1_MoralesGabriel*.\n",
    "- Resuelva los puntos en el espacio provisto. Si requiere agregar más celdas para código o escritura, hágalo (`Esc`,`B`) o (`Esc`,`A`).\n",
    "- Recuerde que también se está evaluando su capacidad de interpretar los resultados. Escriba sus interpretaciones/conclusiones en celdas utilizando *Markdown*.\n",
    "- El formato de presentación de todo el examen en general debe ser adecuado. Use tamaños de letra, colores, etiquetas, etcétera.\n",
    "- No se resuelven dudas de ningún tipo por los profesores de la asignatura. Por favor, absténgase de preguntar.\n",
    "- Revise bien el tipo de examen. Sólo se le calificará si realiza el tipo de examen asignado."
   ]
  },
  {
   "cell_type": "code",
   "execution_count": 113,
   "id": "34b07dbb",
   "metadata": {},
   "outputs": [],
   "source": [
    "import sympy as sp"
   ]
  },
  {
   "cell_type": "code",
   "execution_count": 111,
   "id": "4fa8a510",
   "metadata": {},
   "outputs": [],
   "source": [
    "import numpy as np"
   ]
  },
  {
   "cell_type": "markdown",
   "id": "53712a36",
   "metadata": {},
   "source": [
    "---\n",
    "# Primer punto. Optimización de funciones con `SymPy` (37 puntos)\n",
    "\n",
    "**Costo mínimo**. Imagine dos contenedores cilíndricos sin tapa que deben satisfacer las siguientes condiciones:\n",
    "\n",
    "- El primer contenedor tiene el doble de altura que el segundo.\n",
    "- La altura del primer contenedor (el de mayor tamaño) es el doble de su radio.\n",
    "- El material para la base cuesta 10.00 MXN por cada $m^2$.\n",
    "- El material para los lados cuesta 6.00 MXN por cada $m^2$.\n",
    "\n",
    "¿Cuál es el costo del contenedor más barato?\n"
   ]
  },
  {
   "cell_type": "markdown",
   "id": "10197d50",
   "metadata": {},
   "source": [
    "**Desde las funciones esta mal, y fue lo único que medio pude hacer**"
   ]
  },
  {
   "cell_type": "markdown",
   "id": "9913d3d8",
   "metadata": {},
   "source": [
    "1. Escriba el volumen $V_1(r_1)$ y $V_2(r_2, r_1)$ de ambos contenedores como dos funciones distintas, donde $r_1$ es el radio del primer contenedor y $r_2$ es el radio del segundo. Realice este punto usando $\\LaTeX$ y celdas *Markdown*."
   ]
  },
  {
   "cell_type": "markdown",
   "id": "a387e2cb",
   "metadata": {},
   "source": [
    "$V_1(𝜋2r_1^3)$"
   ]
  },
  {
   "cell_type": "markdown",
   "id": "741758e5",
   "metadata": {},
   "source": [
    "$V_2(𝜋 r_2^3)$"
   ]
  },
  {
   "cell_type": "markdown",
   "id": "ee04a16b",
   "metadata": {},
   "source": [
    "2. Escriba el costo **C** de fabricar ambos contenedores como una función de los radios de las bases. Realice este punto usando $\\LaTeX$ y celdas *Markdown*."
   ]
  },
  {
   "cell_type": "markdown",
   "id": "fed271d9",
   "metadata": {},
   "source": [
    "$C_1 = (10*𝜋*r_1^2) + (6*2*𝜋*r_1*2*r_1) = (10*𝜋*r_1^2)+ (24*𝜋*r_1^2)$"
   ]
  },
  {
   "cell_type": "markdown",
   "id": "82ed239a",
   "metadata": {},
   "source": [
    "$C_2 = (10*𝜋*r_2^2) + (6*2*𝜋*r_2*r_1) = (10*𝜋*r_2^2) + (12*𝜋*r_1*r_2)$"
   ]
  },
  {
   "cell_type": "markdown",
   "id": "579c1b92",
   "metadata": {},
   "source": [
    "$C_t = (10*𝜋*r_1^2) + (24*𝜋*r_1^2) + (10*𝜋*r_2^2)+ (12*𝜋*r_1*r_2)$"
   ]
  },
  {
   "cell_type": "markdown",
   "id": "e99eeecf",
   "metadata": {},
   "source": [
    "$ = 10*((𝜋*r_1^2) + (𝜋*r_2^2)) + 6 * ((4*𝜋*r_1^2) + (2*𝜋*r_1*r_2)$"
   ]
  },
  {
   "cell_type": "markdown",
   "id": "a1e58696",
   "metadata": {},
   "source": [
    "3. Determina las dimensiones de los contenedores si el volumen del contenedor pequeño debe ser de $12m^3$ y el costo debe ser mínimo."
   ]
  },
  {
   "cell_type": "code",
   "execution_count": 129,
   "id": "f4a7593c",
   "metadata": {},
   "outputs": [
    {
     "data": {
      "text/latex": [
       "$\\displaystyle \\frac{12}{\\pi y^{2}}$"
      ],
      "text/plain": [
       "12/(pi*y**2)"
      ]
     },
     "execution_count": 129,
     "metadata": {},
     "output_type": "execute_result"
    }
   ],
   "source": [
    "sp.var(\"x\")\n",
    "sp.var(\"y\")\n",
    "\n",
    "V_2 = sp.pi * y**2 * x -12\n",
    "dim = sp.solve(V_2, x)[0]\n",
    "dim"
   ]
  },
  {
   "cell_type": "code",
   "execution_count": 82,
   "id": "d73359e2",
   "metadata": {},
   "outputs": [
    {
     "data": {
      "text/latex": [
       "$\\displaystyle 10 \\pi y^{2} + \\frac{144}{y} + \\frac{4896}{\\pi y^{4}}$"
      ],
      "text/plain": [
       "10*pi*y**2 + 144/y + 4896/(pi*y**4)"
      ]
     },
     "execution_count": 82,
     "metadata": {},
     "output_type": "execute_result"
    }
   ],
   "source": [
    "Pt = 10 * ((sp.pi*x**2) + (sp.pi*y**2)) + 6*((4*sp.pi*x**2) + (2*sp.pi*x*y))\n",
    "\n",
    "pup = Pt.subs(x, dim)\n",
    "pup"
   ]
  },
  {
   "cell_type": "code",
   "execution_count": 86,
   "id": "28ac84fc",
   "metadata": {},
   "outputs": [
    {
     "data": {
      "text/plain": [
       "[-5**(2/3)*(-18 + 6*sqrt(689))**(1/3)/(5*pi**(1/3)),\n",
       " 5**(2/3)*(18 + 6*sqrt(689))**(1/3)/(5*pi**(1/3)),\n",
       " 5**(2/3)*(-18 + 6*sqrt(689))**(1/3)/(10*pi**(1/3)) - sqrt(3)*5**(2/3)*I*(-18 + 6*sqrt(689))**(1/3)/(10*pi**(1/3)),\n",
       " 5**(2/3)*(-18 + 6*sqrt(689))**(1/3)/(10*pi**(1/3)) + sqrt(3)*5**(2/3)*I*(-18 + 6*sqrt(689))**(1/3)/(10*pi**(1/3)),\n",
       " -5**(2/3)*(18 + 6*sqrt(689))**(1/3)/(10*pi**(1/3)) - sqrt(3)*5**(2/3)*I*(18 + 6*sqrt(689))**(1/3)/(10*pi**(1/3)),\n",
       " -5**(2/3)*(18 + 6*sqrt(689))**(1/3)/(10*pi**(1/3)) + sqrt(3)*5**(2/3)*I*(18 + 6*sqrt(689))**(1/3)/(10*pi**(1/3))]"
      ]
     },
     "execution_count": 86,
     "metadata": {},
     "output_type": "execute_result"
    }
   ],
   "source": [
    "def Pt(y):\n",
    "    return (10*sp.pi*y**2) + (144/y) + (4896/(sp.pi*y**4))\n",
    "\n",
    "dut = sp.diff(Pt(y),y)\n",
    "pc = sp.solve(dut, y)\n",
    "pc"
   ]
  },
  {
   "cell_type": "code",
   "execution_count": 87,
   "id": "82833504",
   "metadata": {},
   "outputs": [
    {
     "data": {
      "text/latex": [
       "$\\displaystyle 20 \\pi + \\frac{288}{y^{3}} + \\frac{97920}{\\pi y^{6}}$"
      ],
      "text/plain": [
       "20*pi + 288/y**3 + 97920/(pi*y**6)"
      ]
     },
     "execution_count": 87,
     "metadata": {},
     "output_type": "execute_result"
    }
   ],
   "source": [
    "ddut = sp.diff(dut,y)\n",
    "ddut"
   ]
  },
  {
   "cell_type": "code",
   "execution_count": 89,
   "id": "4694f508",
   "metadata": {},
   "outputs": [
    {
     "name": "stdout",
     "output_type": "stream",
     "text": [
      "El punto crítico se encuentra en 5**(2/3)*(18 + 6*sqrt(689))**(1/3)/(5*pi**(1/3)) y es un mínimo\n"
     ]
    }
   ],
   "source": [
    "d2_deriv = ddut.subs(y,pc[1])\n",
    "\n",
    "if d2_deriv < 0:\n",
    "    print(\"El punto crítico se encuentra en \" + str(pc[1]) + \" y es un máximo\")\n",
    "elif d2_deriv > 0:\n",
    "    print(\"El punto crítico se encuentra en \" + str(pc[1]) + \" y es un mínimo\")\n",
    "else:\n",
    "    print(\"El punto crítico se encuentra en \" + str(pc[1]) + \" y no se puede definir por el criterio de la segunda derivada si es un máximo o mínimo\")"
   ]
  },
  {
   "cell_type": "code",
   "execution_count": 98,
   "id": "2152fd25",
   "metadata": {},
   "outputs": [
    {
     "data": {
      "text/plain": [
       "[<matplotlib.lines.Line2D at 0x21c0faf9010>]"
      ]
     },
     "execution_count": 98,
     "metadata": {},
     "output_type": "execute_result"
    },
    {
     "data": {
      "image/png": "[encoded data removed]",
      "text/plain": [
       "<Figure size 640x480 with 1 Axes>"
      ]
     },
     "metadata": {},
     "output_type": "display_data"
    }
   ],
   "source": [
    "j = np.linspace(2, 2.5, 1000)\n",
    "\n",
    "plt.figure()\n",
    "plt.plot(j,Pt(j))\n",
    "plt.plot(pc[1], Pt(pc[1]), \".y\", ms=10)"
   ]
  },
  {
   "cell_type": "code",
   "execution_count": 130,
   "id": "892441c0",
   "metadata": {},
   "outputs": [
    {
     "name": "stdout",
     "output_type": "stream",
     "text": [
      "La medida de r2 es:  2.235526671726874\n",
      "La medida de r1 es:  0.7643137311179903\n"
     ]
    }
   ],
   "source": [
    "fy = pc[1]\n",
    "\n",
    "fx = dim.subs(y, fy)\n",
    "print(\"La medida de r2 es: \", float(fy))\n",
    "\n",
    "print(\"La medida de r1 es: \", float(dim.subs(y, fy)))\n",
    "\n"
   ]
  },
  {
   "cell_type": "markdown",
   "id": "fec1be1e",
   "metadata": {},
   "source": [
    "3. ¿Cuál fue el costo de fabricar este par de contenedores?"
   ]
  },
  {
   "cell_type": "code",
   "execution_count": 123,
   "id": "3da98dd3",
   "metadata": {},
   "outputs": [
    {
     "name": "stdout",
     "output_type": "stream",
     "text": [
      "El costo de fabricar ambos contenedores es de: 283.8161489938861\n"
     ]
    }
   ],
   "source": [
    "print(\"El costo de fabricar ambos contenedores es de: \" + str(float(Pt(fy))))"
   ]
  },
  {
   "cell_type": "markdown",
   "id": "4eeff9c8",
   "metadata": {},
   "source": [
    "---\n",
    "# Segundo punto. Programación lineal (37 puntos)"
   ]
  },
  {
   "cell_type": "markdown",
   "id": "8013ca31",
   "metadata": {},
   "source": [
    "Una empresa se dedica a fabricar tarjetas de control para automóviles, y están en su momento de planeación de compras anuales. Hay 5 proveedores que pueden proveer los componentes, cada uno a su propio precio."
   ]
  },
  {
   "cell_type": "markdown",
   "id": "f41253d2",
   "metadata": {},
   "source": [
    "<table>\n",
    "  <tr>\n",
    "      <th>  </th>\n",
    "      <th>Proveedor 1</th>\n",
    "      <th>Proveedor 2</th>\n",
    "      <th>Proveedor 3</th>\n",
    "      <th>Demanda</th>\n",
    "  </tr>\n",
    "  <tr>\n",
    "      <th>Componente 1</th>\n",
    "      <td>0.5</td>\n",
    "      <td>0.6</td>\n",
    "      <td>0.7</td>\n",
    "      <td>15000</td>\n",
    "  </tr>\n",
    "  <tr style=\"border-bottom: 1px solid #000;\">\n",
    "      <th>Componente 2</th>\n",
    "      <td>0.7</td>\n",
    "      <td>0.5</td>\n",
    "      <td>0.6</td>\n",
    "      <td>20000</td>\n",
    "  </tr>\n",
    "  <tr style=\"border-bottom: 1px solid #000;\">\n",
    "      <th>Componente 3</th>\n",
    "      <td>0.32</td>\n",
    "      <td>0.54</td>\n",
    "      <td>0.8</td>\n",
    "      <td>12000</td>\n",
    "  </tr>\n",
    "\n",
    "  <tr style=\"border-bottom: 1px solid #000;\">\n",
    "      <th>Capacidad</th>\n",
    "      <td> 21000 </td>\n",
    "      <td> 16000 </td>\n",
    "      <td> 16000 </td>\n",
    "      <td>  </td>\n",
    "  </tr>\n",
    "</table>"
   ]
  },
  {
   "cell_type": "markdown",
   "id": "48d6c967",
   "metadata": {},
   "source": [
    "El proveedor tiene restricciones de capacidad de fabricación del tipo de componentes, por lo que un proveedor no puede satisfacer nuestra demanda completa para cada componente."
   ]
  },
  {
   "cell_type": "markdown",
   "id": "85e307ae",
   "metadata": {},
   "source": [
    "Se desea conocer la cantidad que se debe comprar de cada componente a cada proveedor para gastar la menor cantidad de dinero posible, pero al mismo tiempo lograr satisfacer la demanda para poder continuar con la manufactura del producto."
   ]
  },
  {
   "cell_type": "markdown",
   "id": "df55a736",
   "metadata": {},
   "source": [
    "1. Escriba la función a **minimizar** junto con las restricciones, explicando detalladamente cada paso (usando fórmulas en $\\LaTeX$, en celdas Markdown). Además escriba el problema en la forma \\begin{equation}\n",
    "\\begin{array}{ll}\n",
    "\\min_{\\boldsymbol{x}} & \\boldsymbol{c}^T\\boldsymbol{x} \\\\\n",
    "\\text{s. a. }        & \\boldsymbol{A}_{eq}\\boldsymbol{x}=\\boldsymbol{b}_{eq} \\\\\n",
    "                     & \\boldsymbol{A}\\boldsymbol{x}\\leq\\boldsymbol{b},\n",
    "\\end{array}\\qquad\\text{(23 puntos)}\n",
    "\\end{equation}"
   ]
  },
  {
   "cell_type": "markdown",
   "id": "06f0a595",
   "metadata": {},
   "source": [
    "Lo que arregle de esta parte fueron las restricciones, ya que en un principio había puesto lo de provedores como igualdad y la desigualdad era la demanda cuando tenía que ser al revés"
   ]
  },
  {
   "cell_type": "markdown",
   "id": "04ce36d6",
   "metadata": {},
   "source": [
    "#### MINIMIZAR \n",
    "\n",
    "#### FUNCION\n",
    "$$ 0.5 xc1p1 + 0.6 xc1p2 + 0.7 xc1p3 + 0.7 xc2p1 + 0.5 xc2p2 + 0.6 xc2p3 + 0.32 xc3p1 + 0.54 xc3p2 + 0.8 xc3p3 $$\n",
    "\n",
    "#### RESTRICCIONES  \n",
    "$$ xc1p1 + 0.6 xc1p2 + 0.7 xc1p3 = 15000 $$\n",
    "$$ 0.7 xc2p1 + 0.5 xc2p2 + 0.6 xc2p3 = 20000 $$\n",
    "$$ 0.32 xc3p1 + 0.54 xc3p2 + 0.8 xc3p3 = 12000$$\n",
    "\n",
    "#### SEGUNDAS RESTRICCIONES \n",
    "$$ 0.5 xc1p1 + 0.7 xc2p1 + 0.32 xc3p1  <= 21000 $$\n",
    "$$ 0.6 xc1p2 + 0.5 xc2p2 + 0.54 xc3p2  <= 16000 $$\n",
    "$$ 0.7 xc1p3 + 0.6 xc2p3 + 0.8 xc3p3  <= 16000 $$"
   ]
  },
  {
   "cell_type": "markdown",
   "id": "6c1e3c9a",
   "metadata": {},
   "source": [
    "2. Resuelva el problema utilizando la función `linprog`. ¿Cómo debe ser la distribución de compras? ¿Cuánto dinero se necesita para satisfacer la demanda? (10 puntos)"
   ]
  },
  {
   "cell_type": "code",
   "execution_count": 3,
   "id": "d321188e",
   "metadata": {},
   "outputs": [
    {
     "data": {
      "text/plain": [
       "        message: Optimization terminated successfully. (HiGHS Status 7: Optimal)\n",
       "        success: True\n",
       "         status: 0\n",
       "            fun: 22940.0\n",
       "              x: [ 9.000e+03  0.000e+00  6.000e+03  0.000e+00  1.600e+04\n",
       "                   4.000e+03  1.200e+04  0.000e+00  0.000e+00]\n",
       "            nit: 6\n",
       "          lower:  residual: [ 9.000e+03  0.000e+00  6.000e+03  0.000e+00\n",
       "                              1.600e+04  4.000e+03  1.200e+04  0.000e+00\n",
       "                              0.000e+00]\n",
       "                 marginals: [ 0.000e+00  0.000e+00  0.000e+00  3.000e-01\n",
       "                              0.000e+00  0.000e+00  0.000e+00  1.200e-01\n",
       "                              2.800e-01]\n",
       "          upper:  residual: [       inf        inf        inf        inf\n",
       "                                    inf        inf        inf        inf\n",
       "                                    inf]\n",
       "                 marginals: [ 0.000e+00  0.000e+00  0.000e+00  0.000e+00\n",
       "                              0.000e+00  0.000e+00  0.000e+00  0.000e+00\n",
       "                              0.000e+00]\n",
       "          eqlin:  residual: [ 0.000e+00  0.000e+00  0.000e+00]\n",
       "                 marginals: [ 7.000e-01  6.000e-01  5.200e-01]\n",
       "        ineqlin:  residual: [ 0.000e+00  0.000e+00  6.000e+03]\n",
       "                 marginals: [-2.000e-01 -1.000e-01 -0.000e+00]\n",
       " mip_node_count: 0\n",
       " mip_dual_bound: 0.0\n",
       "        mip_gap: 0.0"
      ]
     },
     "execution_count": 3,
     "metadata": {},
     "output_type": "execute_result"
    }
   ],
   "source": [
    "import numpy as np\n",
    "import scipy.optimize as opt\n",
    "\n",
    "c = ([0.5,\n",
    "      0.6,\n",
    "      0.7,\n",
    "      0.7,\n",
    "      0.5,\n",
    "      0.6,\n",
    "      0.32,\n",
    "      0.54,\n",
    "      0.8\n",
    "     ])\n",
    "\n",
    "Aub = np.array([\n",
    "    [1, 0, 0, 1, 0, 0, 1, 0, 0],\n",
    "    [0, 1, 0, 0, 1, 0, 0, 1, 0],\n",
    "    [0, 0, 1, 0, 0, 1, 0, 0, 1]\n",
    "])\n",
    "   \n",
    "\n",
    "bub = np.array([21000,\n",
    "                16000,\n",
    "                16000])\n",
    "\n",
    "Aeq = np.array([\n",
    "    [1, 1, 1, 0, 0, 0, 0, 0, 0],\n",
    "    [0, 0, 0, 1, 1, 1, 0, 0, 0],\n",
    "    [0, 0, 0, 0, 0, 0,1, 1, 1]\n",
    "\n",
    "])\n",
    " \n",
    "\n",
    "beq = np.array ([15000,\n",
    "                 20000,\n",
    "                 12000])\n",
    "\n",
    "sol = opt.linprog (c, Aub, bub, Aeq, beq)\n",
    "sol"
   ]
  },
  {
   "cell_type": "code",
   "execution_count": 6,
   "id": "2fe94d17",
   "metadata": {},
   "outputs": [
    {
     "data": {
      "text/plain": [
       "array([ 9000.,     0.,  6000.,     0., 16000.,  4000., 12000.,     0.,\n",
       "           0.])"
      ]
     },
     "execution_count": 6,
     "metadata": {},
     "output_type": "execute_result"
    }
   ],
   "source": [
    "sol.x"
   ]
  },
  {
   "cell_type": "markdown",
   "id": "5888bedd",
   "metadata": {},
   "source": [
    "Componente 1: 9,000 del primer provedor y 6,000 del tercer provedor"
   ]
  },
  {
   "cell_type": "markdown",
   "id": "983b839e",
   "metadata": {},
   "source": [
    "Componente 2: 16,000 del segundo provedor y 4,000 del tercer provedor"
   ]
  },
  {
   "cell_type": "markdown",
   "id": "7cb83f69",
   "metadata": {},
   "source": [
    "Componente 3: 12,000 del primer provedor "
   ]
  },
  {
   "cell_type": "markdown",
   "id": "94dc4cb9",
   "metadata": {},
   "source": [
    "Total del dinero gastado es: 22940"
   ]
  },
  {
   "cell_type": "code",
   "execution_count": 7,
   "id": "4c870778",
   "metadata": {},
   "outputs": [
    {
     "data": {
      "text/plain": [
       "array([21000., 16000., 10000.])"
      ]
     },
     "execution_count": 7,
     "metadata": {},
     "output_type": "execute_result"
    }
   ],
   "source": [
    "Aub @ sol.x"
   ]
  },
  {
   "cell_type": "markdown",
   "id": "5663a48b",
   "metadata": {},
   "source": [
    "# Tercer punto. Ajuste de curvas (36 puntos)\n",
    "\n",
    "Utiliza el archivo adjunto en Canvas en el apartado que corresponde al examen."
   ]
  },
  {
   "cell_type": "markdown",
   "id": "c673e9e6",
   "metadata": {},
   "source": [
    "Escribe tu número de expediente: 745624"
   ]
  },
  {
   "cell_type": "markdown",
   "id": "da3c6c2e",
   "metadata": {},
   "source": [
    "Lee el archivo y extrae la siguiente información:\n",
    "- $x$ es la primer columna del archivo\n",
    "- $y$ es la columna correspondiente a los últimos dos dígitos de tu número de expediente + 1. E.g. mi expediente es $693871$; por lo tanto, debo usar la columna $72$."
   ]
  },
  {
   "cell_type": "markdown",
   "id": "2dc4869a",
   "metadata": {},
   "source": [
    "**Aquí arregle el hecho de que use los primeros dígitos de mi expediente en vez de los últimos**"
   ]
  },
  {
   "cell_type": "code",
   "execution_count": 53,
   "id": "2506415e",
   "metadata": {},
   "outputs": [
    {
     "data": {
      "text/plain": [
       "<matplotlib.collections.PathCollection at 0x21c0ba5c1d0>"
      ]
     },
     "execution_count": 53,
     "metadata": {},
     "output_type": "execute_result"
    },
    {
     "data": {
      "image/png": "[encoded data removed]",
      "text/plain": [
       "<Figure size 640x480 with 1 Axes>"
      ]
     },
     "metadata": {},
     "output_type": "display_data"
    }
   ],
   "source": [
    "import matplotlib.pyplot as plt\n",
    "%matplotlib inline\n",
    "x = np.array(data[0]) \n",
    "y = np.array(data[25])\n",
    "\n",
    "plt.figure()\n",
    "plt.scatter(x, y)"
   ]
  },
  {
   "cell_type": "code",
   "execution_count": 54,
   "id": "46fbbaf5",
   "metadata": {},
   "outputs": [],
   "source": [
    "import pandas as pd\n",
    "import scipy.optimize as opt\n",
    "\n",
    "data = pd.read_excel(\"E01-RegresionLineal.xlsx\")\n",
    "data\n",
    "\n",
    "x = np.array(data[0]) \n",
    "y = np.array(data[25])\n",
    "\n",
    "# y = b0 + b1*x\n",
    "m = len(y)\n",
    "beta = np.random.rand(2)\n",
    "ones = np.ones([m, 1])\n",
    "x_factor = np.reshape(x, [m, 1])\n",
    "X = np.hstack( (ones, x_factor) )\n",
    "y_vector = np.reshape(y, [m, 1])\n",
    "\n",
    "# y = b0 + b1*x + b2*x**2 + b3*x**3\n",
    "beta4 = np.random.rand(4)\n",
    "x2_factor = np.reshape(x**2, [m, 1])\n",
    "x3_factor = np.reshape(x**3, [m, 1])\n",
    "X3 = np.hstack( (ones, x_factor, x2_factor, x3_factor) )\n",
    "\n",
    "# y = b0 + b1*x + b2*x**2 + b*x**3 + b*x**4 + b*x**5\n",
    "beta6 = np.random.rand(6)\n",
    "x4_factor = np.reshape(x**4, [m, 1])\n",
    "x5_factor = np.reshape(x**5, [m, 1])\n",
    "X5 = np.hstack( (ones, x_factor, x2_factor, x3_factor, x4_factor, x5_factor) )\n",
    "\n",
    "\n",
    "def funcion_de_costo(beta, X, y) :\n",
    "    m, n = X.shape\n",
    "    beta = np.reshape(beta, [n, 1])\n",
    "    y_pred = X @ beta\n",
    "    error = y_pred - y\n",
    "    return (error.T @ error)[0][0]"
   ]
  },
  {
   "cell_type": "code",
   "execution_count": 55,
   "id": "fa67533a",
   "metadata": {},
   "outputs": [],
   "source": [
    "sol1 = opt.minimize(funcion_de_costo, beta, args=(X, y_vector))\n",
    "sol2 = opt.minimize(funcion_de_costo, beta4, args=(X3, y_vector))\n",
    "sol3 = opt.minimize(funcion_de_costo, beta6, args=(X5, y_vector))"
   ]
  },
  {
   "cell_type": "code",
   "execution_count": 56,
   "id": "46ac4317",
   "metadata": {},
   "outputs": [
    {
     "data": {
      "text/plain": [
       "  message: Optimization terminated successfully.\n",
       "  success: True\n",
       "   status: 0\n",
       "      fun: 88104.13153847109\n",
       "        x: [-1.761e+01  3.646e+01]\n",
       "      nit: 7\n",
       "      jac: [ 0.000e+00  0.000e+00]\n",
       " hess_inv: [[ 1.535e-03 -1.535e-03]\n",
       "            [-1.535e-03  2.035e-03]]\n",
       "     nfev: 45\n",
       "     njev: 15"
      ]
     },
     "execution_count": 56,
     "metadata": {},
     "output_type": "execute_result"
    }
   ],
   "source": [
    "sol1"
   ]
  },
  {
   "cell_type": "code",
   "execution_count": 57,
   "id": "3a43ceb4",
   "metadata": {},
   "outputs": [
    {
     "data": {
      "text/plain": [
       "  message: Desired error not necessarily achieved due to precision loss.\n",
       "  success: False\n",
       "   status: 2\n",
       "      fun: 1035.5573137432405\n",
       "        x: [-3.193e+00  1.060e+01 -1.323e+01  1.453e+01]\n",
       "      nit: 9\n",
       "      jac: [ 1.526e-05  3.052e-05  3.052e-05  4.578e-05]\n",
       " hess_inv: [[ 4.904e-03 -1.304e-02  9.851e-03 -2.257e-03]\n",
       "            [-1.304e-02  5.712e-02 -5.847e-02  1.697e-02]\n",
       "            [ 9.851e-03 -5.847e-02  7.160e-02 -2.345e-02]\n",
       "            [-2.257e-03  1.697e-02 -2.345e-02  8.288e-03]]\n",
       "     nfev: 331\n",
       "     njev: 64"
      ]
     },
     "execution_count": 57,
     "metadata": {},
     "output_type": "execute_result"
    }
   ],
   "source": [
    "sol2"
   ]
  },
  {
   "cell_type": "code",
   "execution_count": 58,
   "id": "f5eb0d3e",
   "metadata": {},
   "outputs": [
    {
     "data": {
      "text/plain": [
       "  message: Desired error not necessarily achieved due to precision loss.\n",
       "  success: False\n",
       "   status: 2\n",
       "      fun: 964.2161619725156\n",
       "        x: [-2.376e+00  2.277e+00  5.980e+00 -1.120e+00  4.438e+00\n",
       "            -1.896e-01]\n",
       "      nit: 22\n",
       "      jac: [-1.144e-04  0.000e+00 -1.602e-04 -3.891e-04 -7.858e-04\n",
       "            -1.335e-03]\n",
       " hess_inv: [[ 6.205e-03 -1.001e-02 ... -7.933e-03  2.741e-04]\n",
       "            [-1.001e-02  2.375e-02 ...  1.812e-03  3.235e-03]\n",
       "            ...\n",
       "            [-7.933e-03  1.812e-03 ...  9.888e-02 -2.018e-02]\n",
       "            [ 2.741e-04  3.235e-03 ... -2.018e-02  4.833e-03]]\n",
       "     nfev: 354\n",
       "     njev: 49"
      ]
     },
     "execution_count": 58,
     "metadata": {},
     "output_type": "execute_result"
    }
   ],
   "source": [
    "sol3"
   ]
  },
  {
   "cell_type": "markdown",
   "id": "8714fbd7",
   "metadata": {},
   "source": [
    "1. Ajuste los datos con polinomios de grados 1, 3, y 5. Muestre los errores de forma gráfica. ¿Qué polinomio se ajusta mejor?"
   ]
  },
  {
   "cell_type": "code",
   "execution_count": 59,
   "id": "027ba631",
   "metadata": {},
   "outputs": [],
   "source": [
    "def f1(x) :\n",
    "    return -1.761e+01 + 3.646e+01*x\n",
    "def f3(x):\n",
    "    return -3.193e+00 + 1.060e+01*x - 1.323e+01*x**2 + 1.453e+01*x**3\n",
    "def f5(x):\n",
    "    return -2.376e+00 + 2.277e+00*x + 5.980e+00*x**2 - 1.120e+00*x**3 + 4.438e+00*x**4 - 1.896e-01*x**5"
   ]
  },
  {
   "cell_type": "code",
   "execution_count": 101,
   "id": "867c7c09",
   "metadata": {},
   "outputs": [
    {
     "data": {
      "image/png": "[encoded data removed]",
      "text/plain": [
       "<Figure size 640x480 with 1 Axes>"
      ]
     },
     "metadata": {},
     "output_type": "display_data"
    }
   ],
   "source": [
    "import matplotlib.pyplot as plt\n",
    "%matplotlib inline\n",
    "\n",
    "x = np.array(data[0]) \n",
    "y = np.array(data[25])\n",
    "\n",
    "plt.figure()\n",
    "plt.scatter(x, y)\n",
    "plt.plot(x, f1(x),\"r\", label= \"Recta\")\n",
    "plt.plot(x, f3(x),\"g\", label= \"Cúbica\")\n",
    "plt.plot(x, f5(x),\"b\", label= \"A la quinta\")\n",
    "plt.legend(loc= \"best\")\n",
    "plt.grid()"
   ]
  },
  {
   "cell_type": "code",
   "execution_count": 99,
   "id": "c14ea9b4",
   "metadata": {},
   "outputs": [
    {
     "data": {
      "text/plain": [
       "<BarContainer object of 3 artists>"
      ]
     },
     "execution_count": 99,
     "metadata": {},
     "output_type": "execute_result"
    },
    {
     "data": {
      "image/png": "[encoded data removed]",
      "text/plain": [
       "<Figure size 640x480 with 1 Axes>"
      ]
     },
     "metadata": {},
     "output_type": "display_data"
    }
   ],
   "source": [
    "x = [1, 2, 3]\n",
    "y = [sol1.fun, sol2.fun, sol3.fun]\n",
    "etiquetas = [\"x\", \"x**3\", \"x**5\"]\n",
    "fig, ax = plt.subplots()\n",
    "ax.bar(x = x, height = y, tick_label = etiquetas)"
   ]
  },
  {
   "cell_type": "markdown",
   "id": "59862478",
   "metadata": {},
   "source": [
    "2. Muestre en un gráfico los datos y el polinomio que mejor se ajuste."
   ]
  },
  {
   "cell_type": "code",
   "execution_count": 102,
   "id": "27387213",
   "metadata": {},
   "outputs": [
    {
     "data": {
      "image/png": "[encoded data removed]",
      "text/plain": [
       "<Figure size 640x480 with 1 Axes>"
      ]
     },
     "metadata": {},
     "output_type": "display_data"
    }
   ],
   "source": [
    "import matplotlib.pyplot as plt\n",
    "%matplotlib inline\n",
    "\n",
    "x = np.array(data[0]) \n",
    "y = np.array(data[25])\n",
    "\n",
    "plt.figure()\n",
    "plt.scatter(x, y)\n",
    "\n",
    "plt.plot(x, f5(x),\"black\", label= \"A la quinta\")\n",
    "plt.legend(loc= \"best\")\n",
    "plt.grid()"
   ]
  },
  {
   "cell_type": "markdown",
   "id": "0122e1d2",
   "metadata": {},
   "source": [
    "El polinomio que mejor se ajusta a los datos es el de: A la quinta"
   ]
  },
  {
   "cell_type": "markdown",
   "id": "a1110895",
   "metadata": {},
   "source": [
    "**De aquí en adelante complete los ejercicios que me hacían falta**"
   ]
  },
  {
   "cell_type": "markdown",
   "id": "238f342a",
   "metadata": {},
   "source": [
    "3. Use el modelo para averiguar el valor de $y$ cuando:\n",
    "- $x=0.001$\n",
    "- $x=-0.1$\n",
    "- $x=2.1$"
   ]
  },
  {
   "cell_type": "code",
   "execution_count": 65,
   "id": "82706e4e",
   "metadata": {},
   "outputs": [],
   "source": [
    "s = 0.001\n",
    "def g1(s) :\n",
    "    return -1.761e+01 + 3.646e+01*s\n",
    "def g3(s):\n",
    "    return -3.193e+00 + 1.060e+01*s - 1.323e+01*s**2 + 1.453e+01*s**3\n",
    "def g5(s):\n",
    "    return -2.376e+00 + 2.277e+00*s + 5.980e+00*s**2 - 1.120e+00*s**3 + 4.438e+00*s**4 - 1.896e-01*s**5"
   ]
  },
  {
   "cell_type": "code",
   "execution_count": 66,
   "id": "7d0bff95",
   "metadata": {},
   "outputs": [
    {
     "data": {
      "text/plain": [
       "-17.573539999999998"
      ]
     },
     "execution_count": 66,
     "metadata": {},
     "output_type": "execute_result"
    }
   ],
   "source": [
    "g1(s)"
   ]
  },
  {
   "cell_type": "code",
   "execution_count": 67,
   "id": "373c47eb",
   "metadata": {},
   "outputs": [
    {
     "data": {
      "text/plain": [
       "-3.18241321547"
      ]
     },
     "execution_count": 67,
     "metadata": {},
     "output_type": "execute_result"
    }
   ],
   "source": [
    "g3(s)"
   ]
  },
  {
   "cell_type": "code",
   "execution_count": 68,
   "id": "628a8ce2",
   "metadata": {},
   "outputs": [
    {
     "data": {
      "text/plain": [
       "-2.3737170211155623"
      ]
     },
     "execution_count": 68,
     "metadata": {},
     "output_type": "execute_result"
    }
   ],
   "source": [
    "g5(s)"
   ]
  },
  {
   "cell_type": "code",
   "execution_count": 69,
   "id": "e44d8254",
   "metadata": {},
   "outputs": [],
   "source": [
    "s = -0.1\n",
    "def g1(s) :\n",
    "    return -1.761e+01 + 3.646e+01*s\n",
    "def g3(s):\n",
    "    return -3.193e+00 + 1.060e+01*s - 1.323e+01*s**2 + 1.453e+01*s**3\n",
    "def g5(s):\n",
    "    return -2.376e+00 + 2.277e+00*s + 5.980e+00*s**2 - 1.120e+00*s**3 + 4.438e+00*s**4 - 1.896e-01*s**5"
   ]
  },
  {
   "cell_type": "code",
   "execution_count": 70,
   "id": "1c7bfbdb",
   "metadata": {},
   "outputs": [
    {
     "data": {
      "text/plain": [
       "-21.256"
      ]
     },
     "execution_count": 70,
     "metadata": {},
     "output_type": "execute_result"
    }
   ],
   "source": [
    "g1(s)"
   ]
  },
  {
   "cell_type": "code",
   "execution_count": 71,
   "id": "5309e76b",
   "metadata": {},
   "outputs": [
    {
     "data": {
      "text/plain": [
       "-4.39983"
      ]
     },
     "execution_count": 71,
     "metadata": {},
     "output_type": "execute_result"
    }
   ],
   "source": [
    "g3(s)"
   ]
  },
  {
   "cell_type": "code",
   "execution_count": 72,
   "id": "178f76bd",
   "metadata": {},
   "outputs": [
    {
     "data": {
      "text/plain": [
       "-2.5423343039999997"
      ]
     },
     "execution_count": 72,
     "metadata": {},
     "output_type": "execute_result"
    }
   ],
   "source": [
    "g5(s)"
   ]
  },
  {
   "cell_type": "code",
   "execution_count": 73,
   "id": "7591f72c",
   "metadata": {},
   "outputs": [],
   "source": [
    "s = 2.1\n",
    "def g1(s) :\n",
    "    return -1.761e+01 + 3.646e+01*s\n",
    "def g3(s):\n",
    "    return -3.193e+00 + 1.060e+01*s - 1.323e+01*s**2 + 1.453e+01*s**3\n",
    "def g5(s):\n",
    "    return -2.376e+00 + 2.277e+00*s + 5.980e+00*s**2 - 1.120e+00*s**3 + 4.438e+00*s**4 - 1.896e-01*s**5"
   ]
  },
  {
   "cell_type": "code",
   "execution_count": 74,
   "id": "7e78d726",
   "metadata": {},
   "outputs": [
    {
     "data": {
      "text/plain": [
       "58.956"
      ]
     },
     "execution_count": 74,
     "metadata": {},
     "output_type": "execute_result"
    }
   ],
   "source": [
    "g1(s)"
   ]
  },
  {
   "cell_type": "code",
   "execution_count": 75,
   "id": "b32860b9",
   "metadata": {},
   "outputs": [
    {
     "data": {
      "text/plain": [
       "95.28503"
      ]
     },
     "execution_count": 75,
     "metadata": {},
     "output_type": "execute_result"
    }
   ],
   "source": [
    "g3(s)"
   ]
  },
  {
   "cell_type": "code",
   "execution_count": 76,
   "id": "f08b64c9",
   "metadata": {},
   "outputs": [
    {
     "data": {
      "text/plain": [
       "96.97239230400001"
      ]
     },
     "execution_count": 76,
     "metadata": {},
     "output_type": "execute_result"
    }
   ],
   "source": [
    "g5(s)"
   ]
  },
  {
   "cell_type": "markdown",
   "id": "4af77457",
   "metadata": {},
   "source": [
    "4. ¿Qué diferencias encuentra en cuanto a la interpolación y la extrapolación?"
   ]
  },
  {
   "cell_type": "markdown",
   "id": "2e5066df",
   "metadata": {},
   "source": [
    "El modelo en ambos casos resulta ser coherente, ya que cuando x = -0.1, el resultado arrojado si entra dentro del promedio. lo mismo ocurre cuando x = 2.1"
   ]
  },
  {
   "cell_type": "markdown",
   "id": "3ff8002f",
   "metadata": {},
   "source": [
    "5. Agregue un factor $\\cos{(10x)}$ a su modelo y grafique los resultados. ¿Mejoró el resultado?"
   ]
  },
  {
   "cell_type": "code",
   "execution_count": 77,
   "id": "88cd54dc",
   "metadata": {},
   "outputs": [],
   "source": [
    "def f1(x) :\n",
    "    return -1.761e+01 + 3.646e+01*x\n",
    "def f3(x):\n",
    "    return -3.193e+00 + 1.060e+01*x - 1.323e+01*x**2 + 1.453e+01*x**3\n",
    "def f5(x):\n",
    "    return -2.376e+00 + 2.277e+00*x + 5.980e+00*x**2 - 1.120e+00*x**3 + 4.438e+00*x**4 - 1.896e-01*x**5\n",
    "def f6(x):\n",
    "    return -2.376e+00 + 2.277e+00*x + 5.980e+00*x**2 - 1.120e+00*x**3 + 4.438e+00*x**4 - 1.896e-01*x**5 + np.cos(10*x)"
   ]
  },
  {
   "cell_type": "code",
   "execution_count": 103,
   "id": "14336891",
   "metadata": {},
   "outputs": [
    {
     "data": {
      "image/png": "[encoded data removed]",
      "text/plain": [
       "<Figure size 640x480 with 1 Axes>"
      ]
     },
     "metadata": {},
     "output_type": "display_data"
    }
   ],
   "source": [
    "import matplotlib.pyplot as plt\n",
    "%matplotlib inline\n",
    "\n",
    "x = np.array(data[0]) \n",
    "y = np.array(data[25])\n",
    "\n",
    "plt.figure()\n",
    "plt.scatter(x, y)\n",
    "plt.plot(x, f1(x),\"r\", label= \"Recta\")\n",
    "plt.plot(x, f3(x),\"g\", label= \"Cúbica\")\n",
    "plt.plot(x, f5(x),\"black\", label= \"A la quinta\")\n",
    "plt.plot(x, f6(x),\"pink\", label= \"Coseno\")\n",
    "plt.legend(loc= \"best\")\n",
    "plt.grid()"
   ]
  },
  {
   "cell_type": "markdown",
   "id": "ab406d8d",
   "metadata": {},
   "source": [
    "El resultado si mejoró se puede ver como el coseno si se logra ajustar a los datos"
   ]
  }
 ],
 "metadata": {
  "kernelspec": {
   "display_name": "Python 3 (ipykernel)",
   "language": "python",
   "name": "python3"
  },
  "language_info": {
   "codemirror_mode": {
    "name": "ipython",
    "version": 3
   },
   "file_extension": ".py",
   "mimetype": "text/x-python",
   "name": "python",
   "nbconvert_exporter": "python",
   "pygments_lexer": "ipython3",
   "version": "3.11.4"
  }
 },
 "nbformat": 4,
 "nbformat_minor": 5
}
